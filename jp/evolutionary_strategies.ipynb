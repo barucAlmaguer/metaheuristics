{
 "cells": [
  {
   "cell_type": "code",
   "execution_count": 1,
   "metadata": {},
   "outputs": [],
   "source": [
    "from math import pi, cos\n",
    "import numpy as np\n",
    "from matplotlib import pyplot as plt\n",
    "import random as rd\n",
    "import math as mt\n",
    "from collections import namedtuple\n",
    "\n",
    "def rcos(x, y):\n",
    "    return (y-5.1*x**2/(4*mt.pi**2) + 5*x/mt.pi - 6)**2 + 10*(1-1/(8*mt.pi))*mt.cos(x)+10\n",
    "\n",
    "Solution = namedtuple('Solution', 'x y s1 s2')\n",
    "\n",
    "x_range = (-5, 10)\n",
    "y_range = (0, 15)\n",
    "\n",
    "u = 120 # Generacion de padres\n",
    "L = u * 6 # Lambda: Generacion de hijos\n",
    "a = 0.8 # amplitud de perturbacion\n",
    "M = 30 # Stopping criteria\n",
    "\n",
    "x_ini = 0\n",
    "y_ini = 8\n",
    "\n",
    "s1_ini = 1.25 # sigma 1\n",
    "s2_ini = 1.00 # sigma 2\n",
    "\n",
    "sol_ini = Solution(x_ini, y_ini, s1_ini, s2_ini)\n",
    "\n",
    "obj_fun = rcos\n",
    "\n",
    "def population(u):\n",
    "    pop=[]\n",
    "    for i in range(u):\n",
    "        x=rd.randint(-5,10)\n",
    "        y=rd.randint(0,15)\n",
    "        ouch=obj_fun(x,y)\n",
    "        pop.append(Solution(x,y,s1_ini,s2_ini))\n",
    "    return pop"
   ]
  },
  {
   "cell_type": "code",
   "execution_count": 2,
   "metadata": {},
   "outputs": [],
   "source": [
    "popu = population(u)\n",
    "for _ in range(u):\n",
    "    good_count = 0 # one fifth\n",
    "    sample = rd.sample(popu, 5) # n random parents\n",
    "    # mezcla padres\n",
    "    sol_mix = Solution(sample[1].x, sample[2].y, sample[3].s1, sample[4].s2)\n",
    "    sol_prom = Solution(\n",
    "        (sample[0].x+sol_mix.x)/2,\n",
    "        (sample[1].y+sol_mix.y)/2,\n",
    "        (sample[2].s1+sol_mix.s1)/2,\n",
    "        (sample[3].s2+sol_mix.s2)/2\n",
    "    )\n",
    "    obj = obj_fun(sol_prom.x, sol_prom.y)\n",
    "    "
   ]
  },
  {
   "cell_type": "code",
   "execution_count": 24,
   "metadata": {},
   "outputs": [
    {
     "name": "stdout",
     "output_type": "stream",
     "text": [
      "tries: 13379\n"
     ]
    }
   ],
   "source": [
    "cnt = 0\n",
    "gr = 3.5\n",
    "val = 0\n",
    "while val < gr:\n",
    "    val = np.random.normal(0, 1)\n",
    "    cnt += 1\n",
    "print(f'tries: {cnt}')"
   ]
  },
  {
   "cell_type": "code",
   "execution_count": null,
   "metadata": {},
   "outputs": [],
   "source": []
  },
  {
   "cell_type": "code",
   "execution_count": null,
   "metadata": {},
   "outputs": [],
   "source": []
  }
 ],
 "metadata": {
  "kernelspec": {
   "display_name": "Python 3",
   "language": "python",
   "name": "python3"
  },
  "language_info": {
   "codemirror_mode": {
    "name": "ipython",
    "version": 3
   },
   "file_extension": ".py",
   "mimetype": "text/x-python",
   "name": "python",
   "nbconvert_exporter": "python",
   "pygments_lexer": "ipython3",
   "version": "3.6.5"
  }
 },
 "nbformat": 4,
 "nbformat_minor": 2
}
